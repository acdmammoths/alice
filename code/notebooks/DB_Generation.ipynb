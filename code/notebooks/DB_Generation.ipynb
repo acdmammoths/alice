{
 "cells": [
  {
   "cell_type": "code",
   "execution_count": 22,
   "id": "1cc37e3d",
   "metadata": {},
   "outputs": [],
   "source": [
    "import random\n",
    "import numpy as np\n",
    "import pandas as pd\n",
    "from collections import defaultdict\n",
    "import sys\n",
    "sys.path.insert(1, '../')\n",
    "import helpers.dataset_stats as ds\n",
    "import matplotlib.pyplot as plt\n",
    "import seaborn as sns"
   ]
  },
  {
   "cell_type": "markdown",
   "id": "b51974c5",
   "metadata": {},
   "source": [
    "# Methods"
   ]
  },
  {
   "cell_type": "code",
   "execution_count": 2,
   "id": "9dff8501",
   "metadata": {},
   "outputs": [],
   "source": [
    "# converts a bipartite network into a transactional database\n",
    "def from_bip_to_db(f, idx):\n",
    "    transactions = defaultdict(set)\n",
    "    with open(f) as in_f:\n",
    "        for line in in_f.readlines():\n",
    "            if \"%\" in line: continue\n",
    "            line = line.strip()\n",
    "            lst = line.split()\n",
    "            item = int(lst[(idx + 1) % 2])\n",
    "            trans = int(lst[idx])\n",
    "            transactions[trans].add(item)\n",
    "    return np.array(list(transactions.values()))"
   ]
  },
  {
   "cell_type": "code",
   "execution_count": 3,
   "id": "ae0c48c0",
   "metadata": {},
   "outputs": [],
   "source": [
    "# retain leng random transactions in the database\n",
    "def subsample(transactions, leng):\n",
    "    if len(transactions) > leng:\n",
    "        sample_idx = set()\n",
    "        while len(sample_idx) < leng:\n",
    "            sample_idx.add(random.randint(0, len(transactions)-1))\n",
    "        return transactions[list(sample_idx)]\n",
    "    return transactions"
   ]
  },
  {
   "cell_type": "code",
   "execution_count": 4,
   "id": "1622502b",
   "metadata": {},
   "outputs": [],
   "source": [
    "# given a transactional database, finds left and right degree distribution, and BJDM \n",
    "def compute_degrees_and_BJDM(transactions):\n",
    "    edges = list()\n",
    "    left_degrees = defaultdict(int)\n",
    "    right_degrees = defaultdict(int)\n",
    "    for idx, t in enumerate(transactions):\n",
    "        left_degrees[idx] = len(t)\n",
    "        for item in t:\n",
    "            edges.append((idx, item))\n",
    "            right_degrees[item] += 1\n",
    "    max_len = max(left_degrees.values())\n",
    "    max_deg = max(right_degrees.values())\n",
    "    BJDM = np.zeros((max_len, max_deg))\n",
    "    for edge in edges:\n",
    "        l = left_degrees[edge[0]]-1\n",
    "        r = right_degrees[edge[1]]-1\n",
    "        BJDM[l][r] += 1\n",
    "    ld = np.zeros(max_len)\n",
    "    rd = np.zeros(max_deg)\n",
    "    for v in left_degrees.values():\n",
    "        ld[v-1] += 1\n",
    "    for v in right_degrees.values():\n",
    "        rd[v-1] += 1\n",
    "    ld = ld.reshape(-1,1)\n",
    "    rd = rd.reshape(-1,1)\n",
    "    return BJDM, ld, rd"
   ]
  },
  {
   "cell_type": "code",
   "execution_count": 14,
   "id": "338c6007",
   "metadata": {},
   "outputs": [],
   "source": [
    "def find_distance(ds, trans):\n",
    "    # compute bjdm and marginals - normalize!\n",
    "    bjdm, ld, rd = compute_degrees_and_BJDM(trans)\n",
    "    bjdm_n = bjdm / np.sum(bjdm)\n",
    "    ld_n = ld / np.sum(ld)\n",
    "    rd_n = rd / np.sum(rd)\n",
    "    # joint deg dist is the product of the marginals\n",
    "    joint = (ld_n @ rd_n.T)\n",
    "    print(bjdm_n.shape, round(np.sum(bjdm_n)), \n",
    "          joint.shape, round(np.sum(joint)))\n",
    "    diff = bjdm_n - joint\n",
    "    # the larger the distance between bjdm and joint, \n",
    "    # the higher the probability that ALICE and GMMT\n",
    "    # give different results in significant itemset mining\n",
    "    dist = round(np.linalg.norm(diff, ord='fro'), 5)\n",
    "    # tentative threshold\n",
    "    abs_diff = np.abs(diff) * np.sum(bjdm)\n",
    "    thresh = np.mean(abs_diff) / len(trans)\n",
    "    print(ds, len(trans), dist, thresh)\n",
    "    return ld_n, rd_n"
   ]
  },
  {
   "cell_type": "code",
   "execution_count": 6,
   "id": "82522e2f",
   "metadata": {},
   "outputs": [],
   "source": [
    "def get_dataset_stats(transactions):\n",
    "    num_transactions = len(transactions)\n",
    "    items = set()\n",
    "    sum_transaction_lens = 0\n",
    "\n",
    "    for transaction in transactions:\n",
    "        for item in transaction:\n",
    "            items.add(item)\n",
    "        sum_transaction_lens += len(transaction)\n",
    "\n",
    "    num_items = len(items)\n",
    "    avg_transaction_len = sum_transaction_lens / num_transactions\n",
    "    density = avg_transaction_len / num_items\n",
    "    # 'Transaction Num', 'Item Num', 'Sum Transaction Lengths', 'AVG Transaction Length', 'Density'\n",
    "    return [num_transactions, num_items, sum_transaction_lens, avg_transaction_len, density]"
   ]
  },
  {
   "cell_type": "code",
   "execution_count": 7,
   "id": "b5da6411",
   "metadata": {},
   "outputs": [],
   "source": [
    "def write_db(f, transactions):\n",
    "    with open(f, 'w') as out_f:\n",
    "        for t in transactions:\n",
    "            out_f.write(' '.join([str(x) for x in t])+'\\n')"
   ]
  },
  {
   "cell_type": "markdown",
   "id": "aaa99e2d",
   "metadata": {},
   "source": [
    "# Setup"
   ]
  },
  {
   "cell_type": "code",
   "execution_count": 8,
   "id": "11d40e56",
   "metadata": {},
   "outputs": [],
   "source": [
    "data_dir = '../datasets/bipartite'\n",
    "out_dir = '../datasets'"
   ]
  },
  {
   "cell_type": "code",
   "execution_count": 15,
   "id": "8fc0ad02",
   "metadata": {},
   "outputs": [],
   "source": [
    "bip_graphs = ['gottron-reuters', 'bag-kos', 'dbpedia-occupation', \n",
    "              'movielens-100k_rating', 'edit-iewikibooks', \n",
    "              'librec-filmtrust-ratings', 'wang-tripadvisor', \n",
    "              'moreno_crime']\n",
    "# if the transaction is the left or right node\n",
    "side = {\n",
    "    'gottron-reuters' : 0,\n",
    "    'bag-kos' : 0,\n",
    "    'dbpedia-occupation' : 0,\n",
    "    'movielens-100k_rating' : 0,\n",
    "    'edit-iewikibooks' : 0,\n",
    "    'librec-filmtrust-ratings' : 0,\n",
    "    'wang-tripadvisor' : 0,\n",
    "    'moreno_crime' : 0\n",
    "}"
   ]
  },
  {
   "cell_type": "code",
   "execution_count": 158,
   "id": "feacc4e0",
   "metadata": {},
   "outputs": [],
   "source": [
    "max_size = 10000"
   ]
  },
  {
   "cell_type": "markdown",
   "id": "ea988777",
   "metadata": {},
   "source": [
    "# Generation"
   ]
  },
  {
   "cell_type": "code",
   "execution_count": 159,
   "id": "da0d6ffd",
   "metadata": {},
   "outputs": [],
   "source": [
    "dbs = dict()"
   ]
  },
  {
   "cell_type": "code",
   "execution_count": 160,
   "id": "b167634d",
   "metadata": {},
   "outputs": [
    {
     "name": "stdout",
     "output_type": "stream",
     "text": [
      "(380, 9659) 1 (380, 9659) 1\n",
      "gottron-reuters 10000 0.058 2.1544970710719304e-05\n",
      "(457, 2123) 1 (457, 2123) 1\n",
      "bag-kos 3430 0.00958 0.00011779562486871651\n",
      "(18, 1394) 1 (18, 1394) 1\n",
      "dbpedia-occupation 10000 0.32214 8.293752647487876e-05\n",
      "(737, 583) 1 (737, 583) 1\n",
      "movielens-100k_rating 943 0.01303 0.000333226717016403\n",
      "(181, 7) 1 (181, 7) 1\n",
      "edit-iewikibooks 137 0.49284 0.004783716913068563\n",
      "(244, 1044) 1 (244, 1044) 1\n",
      "librec-filmtrust-ratings 1508 0.09904 0.00016361178647119096\n",
      "(22, 152) 1 (22, 152) 1\n",
      "wang-tripadvisor 10000 0.17212 0.0002928067004315967\n",
      "(25, 18) 1 (25, 18) 1\n",
      "moreno_crime 829 0.28021 0.0036225142425240654\n"
     ]
    }
   ],
   "source": [
    "for ds in bip_graphs:\n",
    "    file_name = f'{data_dir}/{ds}/out.{ds}'\n",
    "    # generate database\n",
    "    trans = from_bip_to_db(file_name, side[ds])\n",
    "    # sub-sample from db\n",
    "    trans = subsample(trans, max_size)\n",
    "    dbs[ds] = trans\n",
    "    # find distance\n",
    "    find_distance(ds, trans)"
   ]
  },
  {
   "cell_type": "code",
   "execution_count": null,
   "id": "0b7bfbf9",
   "metadata": {},
   "outputs": [],
   "source": [
    "find_distance('kosarak_3000', )"
   ]
  },
  {
   "cell_type": "markdown",
   "id": "091c64a0",
   "metadata": {},
   "source": [
    "# Save Candidate DB"
   ]
  },
  {
   "cell_type": "markdown",
   "id": "38674970",
   "metadata": {},
   "source": [
    "# Statistics"
   ]
  },
  {
   "cell_type": "code",
   "execution_count": 16,
   "id": "d0978b63",
   "metadata": {},
   "outputs": [],
   "source": [
    "db_name = 'kosarak_3000'"
   ]
  },
  {
   "cell_type": "code",
   "execution_count": 18,
   "id": "2d964add",
   "metadata": {},
   "outputs": [
    {
     "name": "stdout",
     "output_type": "stream",
     "text": [
      "(415, 1803) 1 (415, 1803) 1\n",
      "kosarak_3000 3000 0.19813 1.6293502058983876e-05\n"
     ]
    },
    {
     "name": "stderr",
     "output_type": "stream",
     "text": [
      "/var/folders/nb/fsgt9jgs34x6qd_dvlnbdw680000gn/T/ipykernel_28702/1959491975.py:5: VisibleDeprecationWarning: Creating an ndarray from ragged nested sequences (which is a list-or-tuple of lists-or-tuples-or ndarrays with different lengths or shapes) is deprecated. If you meant to do this, you must specify 'dtype=object' when creating the ndarray.\n",
      "  transactions = np.array(transactions)\n"
     ]
    }
   ],
   "source": [
    "transactions = list()\n",
    "with open(f'../datasets/{db_name}.txt') as in_f:\n",
    "    for line in in_f.readlines():\n",
    "        transactions.append([int(x) for x in line.strip().split()])\n",
    "transactions = np.array(transactions)\n",
    "ld, rd = find_distance(db_name, transactions)"
   ]
  },
  {
   "cell_type": "code",
   "execution_count": 21,
   "id": "92e7b3e4",
   "metadata": {},
   "outputs": [
    {
     "data": {
      "text/plain": [
       "[<matplotlib.lines.Line2D at 0x7f95534f6160>]"
      ]
     },
     "execution_count": 21,
     "metadata": {},
     "output_type": "execute_result"
    },
    {
     "data": {
      "image/png": "[encoded data removed]",
      "text/plain": [
       "<Figure size 720x576 with 1 Axes>"
      ]
     },
     "metadata": {
      "needs_background": "light"
     },
     "output_type": "display_data"
    }
   ],
   "source": [
    "fig,ax = plt.subplots(figsize=(10,8))\n",
    "sns.heatmap()\n",
    "plt.plot(ld)\n",
    "plt.plot(rd)"
   ]
  },
  {
   "cell_type": "code",
   "execution_count": 141,
   "id": "8eabbf6f",
   "metadata": {},
   "outputs": [],
   "source": [
    "subT = subsample(transactions, max_size)"
   ]
  },
  {
   "cell_type": "code",
   "execution_count": 142,
   "id": "c53f18f4",
   "metadata": {},
   "outputs": [
    {
     "name": "stdout",
     "output_type": "stream",
     "text": [
      "(58, 1690) 1 (58, 1690) 1\n",
      "retail 3000 0.08996 0.00011962453777348124\n"
     ]
    }
   ],
   "source": [
    "find_distance(db_name, subT)"
   ]
  },
  {
   "cell_type": "code",
   "execution_count": 164,
   "id": "85414e27",
   "metadata": {},
   "outputs": [
    {
     "data": {
      "text/plain": [
       "[10000, 1669, 12101, 1.2101, 0.0007250449370880766]"
      ]
     },
     "execution_count": 164,
     "metadata": {},
     "output_type": "execute_result"
    }
   ],
   "source": [
    "get_dataset_stats(dbs[db_name])"
   ]
  },
  {
   "cell_type": "code",
   "execution_count": 162,
   "id": "3153cce8",
   "metadata": {},
   "outputs": [],
   "source": [
    "write_db(f'{out_dir}/{db_name}.txt', dbs[db_name])"
   ]
  }
 ],
 "metadata": {
  "kernelspec": {
   "display_name": "Python 3 (ipykernel)",
   "language": "python",
   "name": "python3"
  },
  "language_info": {
   "codemirror_mode": {
    "name": "ipython",
    "version": 3
   },
   "file_extension": ".py",
   "mimetype": "text/x-python",
   "name": "python",
   "nbconvert_exporter": "python",
   "pygments_lexer": "ipython3",
   "version": "3.9.12"
  },
  "toc": {
   "base_numbering": 1,
   "nav_menu": {},
   "number_sections": true,
   "sideBar": true,
   "skip_h1_title": false,
   "title_cell": "Table of Contents",
   "title_sidebar": "Contents",
   "toc_cell": false,
   "toc_position": {},
   "toc_section_display": true,
   "toc_window_display": true
  }
 },
 "nbformat": 4,
 "nbformat_minor": 5
}
