{
 "cells": [
  {
   "cell_type": "code",
   "execution_count": 30,
   "id": "cc775556",
   "metadata": {},
   "outputs": [],
   "source": [
    "import random\n",
    "import numpy as np\n",
    "from collections import defaultdict"
   ]
  },
  {
   "cell_type": "markdown",
   "id": "722360c4",
   "metadata": {},
   "source": [
    "# Methods"
   ]
  },
  {
   "cell_type": "code",
   "execution_count": 41,
   "id": "00453a74",
   "metadata": {},
   "outputs": [],
   "source": [
    "# converts a bipartite network into a transactional database\n",
    "def from_bip_to_db(f, idx):\n",
    "    transactions = defaultdict(set)\n",
    "    with open(f) as in_f:\n",
    "        for line in in_f.readlines():\n",
    "            if \"%\" in line: continue\n",
    "            line = line.strip()\n",
    "            lst = line.split()\n",
    "            item = int(lst[(idx + 1) % 2])\n",
    "            trans = int(lst[idx])\n",
    "            transactions[trans].add(item)\n",
    "    return np.array(list(transactions.values()))"
   ]
  },
  {
   "cell_type": "code",
   "execution_count": 98,
   "id": "06446a66",
   "metadata": {},
   "outputs": [],
   "source": [
    "# retain leng random transactions in the database\n",
    "def subsample(transactions, leng):\n",
    "    if len(transactions) > leng:\n",
    "        sample_idx = set()\n",
    "        while len(sample_idx) < leng:\n",
    "            sample_idx.add(random.randint(0, len(transactions)-1))\n",
    "        return transactions[list(sample_idx)]\n",
    "    return transactions"
   ]
  },
  {
   "cell_type": "code",
   "execution_count": 81,
   "id": "5cc0c6c5",
   "metadata": {},
   "outputs": [],
   "source": [
    "# given a transactional database, finds left and right degree distribution, and BJDM \n",
    "def compute_degrees_and_BJDM(transactions):\n",
    "    edges = list()\n",
    "    left_degrees = defaultdict(int)\n",
    "    right_degrees = defaultdict(int)\n",
    "    for idx, t in enumerate(transactions):\n",
    "        left_degrees[idx] = len(t)\n",
    "        for item in t:\n",
    "            edges.append((idx, item))\n",
    "            right_degrees[item] += 1\n",
    "    max_len = max(left_degrees.values())\n",
    "    max_deg = max(right_degrees.values())\n",
    "    BJDM = np.zeros((max_len, max_deg))\n",
    "    for edge in edges:\n",
    "        l = left_degrees[edge[0]]-1\n",
    "        r = right_degrees[edge[1]]-1\n",
    "        BJDM[l][r] += 1\n",
    "    ld = np.zeros(max_len)\n",
    "    rd = np.zeros(max_deg)\n",
    "    for v in left_degrees.values():\n",
    "        ld[v-1] += 1\n",
    "    for v in right_degrees.values():\n",
    "        rd[v-1] += 1\n",
    "    ld = ld.reshape(-1,1)\n",
    "    rd = rd.reshape(-1,1)\n",
    "    return BJDM, ld, rd"
   ]
  },
  {
   "cell_type": "code",
   "execution_count": 94,
   "id": "740fe660",
   "metadata": {},
   "outputs": [],
   "source": [
    "def write_db(f, transactions):\n",
    "    with open(f, 'w') as out_f:\n",
    "        for t in transactions:\n",
    "            out_f.write(' '.join([str(x) for x in t])+'\\n')"
   ]
  },
  {
   "cell_type": "markdown",
   "id": "3518e1dd",
   "metadata": {},
   "source": [
    "# Setup"
   ]
  },
  {
   "cell_type": "code",
   "execution_count": 23,
   "id": "15821fbb",
   "metadata": {},
   "outputs": [],
   "source": [
    "data_dir = '../datasets/bipartite'"
   ]
  },
  {
   "cell_type": "code",
   "execution_count": 24,
   "id": "74c9146f",
   "metadata": {},
   "outputs": [],
   "source": [
    "bip_graphs = ['gottron-reuters', 'bag-kos', 'dbpedia-occupation', \n",
    "              'movielens-100k_rating', 'edit-iewikibooks', \n",
    "              'librec-filmtrust-ratings', 'wang-tripadvisor', \n",
    "              'moreno_crime']\n",
    "# if the transaction is the left or right node\n",
    "side = {\n",
    "    'gottron-reuters' : 0,\n",
    "    'bag-kos' : 0,\n",
    "    'dbpedia-occupation' : 0,\n",
    "    'movielens-100k_rating' : 0,\n",
    "    'edit-iewikibooks' : 0,\n",
    "    'librec-filmtrust-ratings' : 0,\n",
    "    'wang-tripadvisor' : 0,\n",
    "    'moreno_crime' : 0\n",
    "}"
   ]
  },
  {
   "cell_type": "code",
   "execution_count": 97,
   "id": "a5d27fce",
   "metadata": {},
   "outputs": [],
   "source": [
    "max_size = 4000"
   ]
  },
  {
   "cell_type": "markdown",
   "id": "19c53770",
   "metadata": {},
   "source": [
    "# Generation"
   ]
  },
  {
   "cell_type": "code",
   "execution_count": 99,
   "id": "0bf430da",
   "metadata": {},
   "outputs": [],
   "source": [
    "dbs = dict()"
   ]
  },
  {
   "cell_type": "code",
   "execution_count": 101,
   "id": "65d3df42",
   "metadata": {},
   "outputs": [
    {
     "name": "stdout",
     "output_type": "stream",
     "text": [
      "(295, 3850) 1 (295, 3850) 1\n",
      "gottron-reuters 4000 0.05815 6.625028265615344e-05\n",
      "(457, 2123) 1 (457, 2123) 1\n",
      "bag-kos 3430 0.00958 0.00011779562486871651\n",
      "(18, 548) 1 (18, 548) 1\n",
      "dbpedia-occupation 4000 0.30429 0.00019782186067706216\n",
      "(737, 583) 1 (737, 583) 1\n",
      "movielens-100k_rating 943 0.01303 0.000333226717016403\n",
      "(181, 7) 1 (181, 7) 1\n",
      "edit-iewikibooks 137 0.49284 0.004783716913068563\n",
      "(244, 1044) 1 (244, 1044) 1\n",
      "librec-filmtrust-ratings 1508 0.09904 0.00016361178647119096\n",
      "(13, 66) 1 (13, 66) 1\n",
      "wang-tripadvisor 4000 0.25582 0.001108152571805589\n",
      "(25, 18) 1 (25, 18) 1\n",
      "moreno_crime 829 0.28021 0.0036225142425240654\n"
     ]
    }
   ],
   "source": [
    "for ds in bip_graphs:\n",
    "    file_name = f'{data_dir}/{ds}/out.{ds}'\n",
    "    # generate database\n",
    "    trans = from_bip_to_db(file_name, side[ds])\n",
    "    # sub-sample from db\n",
    "    trans = subsample(trans, max_size)\n",
    "    dbs[ds] = trans\n",
    "    # compute bjdm and marginals - normalize!\n",
    "    bjdm, ld, rd = compute_degrees_and_BJDM(trans)\n",
    "    bjdm_n = bjdm / np.sum(bjdm)\n",
    "    ld_n = ld / np.sum(ld)\n",
    "    rd_n = rd / np.sum(rd)\n",
    "    # joint deg dist is the product of the marginals\n",
    "    joint = (ld_n @ rd_n.T)\n",
    "    print(bjdm_n.shape, round(np.sum(bjdm_n)), \n",
    "          joint.shape, round(np.sum(joint)))\n",
    "    diff = bjdm_n - joint\n",
    "    # the larger the distance between bjdm and joint, \n",
    "    # the higher the probability that ALICE and GMMT\n",
    "    # give different results in significant itemset mining\n",
    "    dist = round(np.linalg.norm(diff, ord='fro'), 5)\n",
    "    # tentative threshold\n",
    "    abs_diff = np.abs(diff) * np.sum(bjdm)\n",
    "    thresh = np.mean(abs_diff) / len(trans)\n",
    "    print(ds, len(trans), dist, thresh)"
   ]
  },
  {
   "cell_type": "markdown",
   "id": "07a8840a",
   "metadata": {},
   "source": [
    "# Save Candidate DB"
   ]
  },
  {
   "cell_type": "code",
   "execution_count": 102,
   "id": "90e1566b",
   "metadata": {},
   "outputs": [],
   "source": [
    "for db in ['edit-iewikibooks', 'dbpedia-occupation', \n",
    "           'moreno_crime', 'wang-tripadvisor']:\n",
    "    write_db(f'{data_dir}/{db}.txt', dbs[db])"
   ]
  }
 ],
 "metadata": {
  "kernelspec": {
   "display_name": "Python 3 (ipykernel)",
   "language": "python",
   "name": "python3"
  },
  "language_info": {
   "codemirror_mode": {
    "name": "ipython",
    "version": 3
   },
   "file_extension": ".py",
   "mimetype": "text/x-python",
   "name": "python",
   "nbconvert_exporter": "python",
   "pygments_lexer": "ipython3",
   "version": "3.9.12"
  },
  "toc": {
   "base_numbering": 1,
   "nav_menu": {},
   "number_sections": true,
   "sideBar": true,
   "skip_h1_title": false,
   "title_cell": "Table of Contents",
   "title_sidebar": "Contents",
   "toc_cell": false,
   "toc_position": {},
   "toc_section_display": true,
   "toc_window_display": true
  }
 },
 "nbformat": 4,
 "nbformat_minor": 5
}
